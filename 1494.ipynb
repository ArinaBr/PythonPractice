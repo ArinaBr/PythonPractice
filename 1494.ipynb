{
 "cells": [
  {
   "cell_type": "code",
   "execution_count": 16,
   "id": "61bbfcde",
   "metadata": {},
   "outputs": [
    {
     "name": "stdout",
     "output_type": "stream",
     "text": [
      "6\n",
      "4\n",
      "3\n",
      "5\n",
      "2\n",
      "6\n",
      "1\n",
      "[1, 2, 3]\n",
      "Not a proof\n"
     ]
    }
   ],
   "source": [
    "N = int(input())\n",
    "numbers = list()\n",
    "for i in range(N):\n",
    "    numbers.append(int(input()))\n",
    "the_first_ball = numbers[0]\n",
    "array = [j + 1 for j in range(the_first_ball - 1)]\n",
    "check = True\n",
    "# Сhecking the correct order of the balls\n",
    "for i in range(1, N, 1):\n",
    "    if numbers[i] > the_first_ball:\n",
    "        for k in range(the_first_ball + 1, numbers[i]):\n",
    "            array.append(k)\n",
    "        the_first_ball = numbers[i]\n",
    "    elif numbers[i] != array[len(array) - 1]:\n",
    "        check = False\n",
    "    else:\n",
    "        array.pop(len(array) - 1)\n",
    "if check == True:\n",
    "    print(\"Not a proof\")\n",
    "else:\n",
    "    print(\"Cheater\")"
   ]
  },
  {
   "cell_type": "code",
   "execution_count": null,
   "id": "b1fc981a",
   "metadata": {},
   "outputs": [],
   "source": []
  }
 ],
 "metadata": {
  "kernelspec": {
   "display_name": "Python 3 (ipykernel)",
   "language": "python",
   "name": "python3"
  },
  "language_info": {
   "codemirror_mode": {
    "name": "ipython",
    "version": 3
   },
   "file_extension": ".py",
   "mimetype": "text/x-python",
   "name": "python",
   "nbconvert_exporter": "python",
   "pygments_lexer": "ipython3",
   "version": "3.10.2"
  }
 },
 "nbformat": 4,
 "nbformat_minor": 5
}
