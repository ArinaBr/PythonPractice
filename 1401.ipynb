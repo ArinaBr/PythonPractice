{
 "cells": [
  {
   "cell_type": "code",
   "execution_count": 3,
   "id": "e8425515",
   "metadata": {},
   "outputs": [
    {
     "name": "stdout",
     "output_type": "stream",
     "text": [
      "2\n",
      "1 1\n",
      "0 2 3 3 \n",
      "2 2 1 3 \n",
      "4 1 1 5 \n",
      "4 4 5 5 \n"
     ]
    }
   ],
   "source": [
    "def task(n, x, y):\n",
    "    '''\n",
    "    The arrangement of the figures on the board.\n",
    "    \n",
    "    :params n, x, y: arguments\n",
    "    :types n, x, y: int\n",
    "    \n",
    "    :return decision: filled board\n",
    "    :type decision: array\n",
    "    \n",
    "    '''\n",
    "    global quantity\n",
    "    if n > 1:\n",
    "        number = 1 << (n - 1)\n",
    "        figure = quantity\n",
    "        quantity = quantity + 1\n",
    "        if x > number or y > number:\n",
    "            first = task(n - 1, number, number)\n",
    "            first[number - 1][number - 1] = figure\n",
    "        else:\n",
    "            first = task(n - 1, x, y)    \n",
    "        if x <= number or y > number:\n",
    "            second = task(n - 1, 1, number)\n",
    "            second[number - 1][0] = figure\n",
    "        else:\n",
    "            second = task(n - 1, x - number, y)   \n",
    "        if x > number or y <= number:\n",
    "            third = task(n - 1, number, 1)\n",
    "            third[0][number - 1] = figure\n",
    "        else:\n",
    "            third = task(n - 1, x, y - number)  \n",
    "        if x <= number or y <= number:\n",
    "            fourth = task(n - 1, 1, 1)\n",
    "            fourth[0][0] = figure\n",
    "        else:\n",
    "            fourth = task(n - 1, x - number, y - number)  \n",
    "        for i in range(number):\n",
    "            first[i] = first[i] + second[i]\n",
    "            third[i] = third[i] + fourth[i]\n",
    "        decision = first + third\n",
    "        return decision\n",
    "    else:\n",
    "        massif = [[0, 0], [0, 0]]\n",
    "        for i in range(2):\n",
    "            for j in range(2):\n",
    "                if (i != y - 1) or (j != x - 1):\n",
    "                    massif[i][j] = quantity\n",
    "        quantity = quantity + 1\n",
    "        decision = massif\n",
    "        return decision\n",
    "        \n",
    "        \n",
    "n = int(input())\n",
    "y, x = map(int, input().split())\n",
    "quantity = 1\n",
    "# Found filled board\n",
    "shapes = task(n, x, y)\n",
    "for i in range(1 << n):\n",
    "    for j in range(1 << n):\n",
    "        print(shapes[i][j], end=' ')\n",
    "    print()"
   ]
  },
  {
   "cell_type": "code",
   "execution_count": null,
   "id": "5e9326e4",
   "metadata": {},
   "outputs": [],
   "source": []
  }
 ],
 "metadata": {
  "kernelspec": {
   "display_name": "Python 3 (ipykernel)",
   "language": "python",
   "name": "python3"
  },
  "language_info": {
   "codemirror_mode": {
    "name": "ipython",
    "version": 3
   },
   "file_extension": ".py",
   "mimetype": "text/x-python",
   "name": "python",
   "nbconvert_exporter": "python",
   "pygments_lexer": "ipython3",
   "version": "3.10.2"
  }
 },
 "nbformat": 4,
 "nbformat_minor": 5
}
