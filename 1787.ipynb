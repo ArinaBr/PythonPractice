{
 "cells": [
  {
   "cell_type": "code",
   "execution_count": 16,
   "id": "a3697b04",
   "metadata": {},
   "outputs": [
    {
     "name": "stdout",
     "output_type": "stream",
     "text": [
      "5 3 \n",
      "0 0 0\n",
      "0\n"
     ]
    }
   ],
   "source": [
    "k, n = map(int, input().split())\n",
    "a = [int(i) for i in input().split()]\n",
    "# Variable that counts the number of cars standing in traffic\n",
    "cars = 0\n",
    "for i in range(n):\n",
    "    cars = cars + a[i]\n",
    "    if (cars - k) >= 0:\n",
    "        cars = cars - k\n",
    "    else:\n",
    "        cars = 0\n",
    "print(cars)"
   ]
  },
  {
   "cell_type": "code",
   "execution_count": null,
   "id": "7f204237",
   "metadata": {},
   "outputs": [],
   "source": []
  }
 ],
 "metadata": {
  "kernelspec": {
   "display_name": "Python 3 (ipykernel)",
   "language": "python",
   "name": "python3"
  },
  "language_info": {
   "codemirror_mode": {
    "name": "ipython",
    "version": 3
   },
   "file_extension": ".py",
   "mimetype": "text/x-python",
   "name": "python",
   "nbconvert_exporter": "python",
   "pygments_lexer": "ipython3",
   "version": "3.10.2"
  }
 },
 "nbformat": 4,
 "nbformat_minor": 5
}
