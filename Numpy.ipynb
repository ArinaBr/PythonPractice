{
 "cells": [
  {
   "cell_type": "code",
   "execution_count": 12,
   "id": "fa5af1c0",
   "metadata": {},
   "outputs": [
    {
     "name": "stdout",
     "output_type": "stream",
     "text": [
      "The original matrix:\n",
      "[[816  46 395  21 875]\n",
      " [588 814 524 278 530]\n",
      " [452 932  99  45 529]\n",
      " [254 753 715 752 746]\n",
      " [708 681 759 900 500]]\n",
      "\n",
      "The sorted matrix:\n",
      "[[452 932  99  45 529]\n",
      " [816  46 395  21 875]\n",
      " [588 814 524 278 530]\n",
      " [254 753 715 752 746]\n",
      " [708 681 759 900 500]]\n"
     ]
    }
   ],
   "source": [
    "# The first task\n",
    "import numpy as np\n",
    "array = np.random.randint(low=0, high=1000, size=(5, 5))\n",
    "print(\"The original matrix:\", array, sep=\"\\n\", end=\"\\n\\n\")\n",
    "massif = array[np.argsort(array[:, 2])]\n",
    "print(\"The sorted matrix:\", massif, sep=\"\\n\")"
   ]
  },
  {
   "cell_type": "code",
   "execution_count": 13,
   "id": "e6ea5e4d",
   "metadata": {},
   "outputs": [
    {
     "name": "stdout",
     "output_type": "stream",
     "text": [
      "The original matrix:\n",
      "[[156 687 967 152 108]\n",
      " [799 490  55  59 419]\n",
      " [536 666 856 295 835]\n",
      " [220 563  47 724 267]\n",
      " [547 780  18 476 767]]\n",
      "\n",
      "The new matrix:\n",
      "[[ 55  59]\n",
      " [856 295]]\n"
     ]
    }
   ],
   "source": [
    "# The second task\n",
    "import numpy as np\n",
    "array = np.random.randint(low=0, high=1000, size=(5, 5))\n",
    "print(\"The original matrix:\", array, sep=\"\\n\", end=\"\\n\\n\")\n",
    "matrix = array[1:3, 2:4]\n",
    "print(\"The new matrix:\", matrix, sep=\"\\n\")"
   ]
  },
  {
   "cell_type": "code",
   "execution_count": 14,
   "id": "17dfecdb",
   "metadata": {},
   "outputs": [
    {
     "name": "stdout",
     "output_type": "stream",
     "text": [
      "The initial vector of values:\n",
      "[ 0  1  2  3  4  5  6  7  8  9 10 11 12 13 14 15 16 17 18 19 20]\n",
      "\n",
      "The new vector of values:\n",
      "[  0   1   2   3   4   5   6   7   8  -9 -10 -11 -12 -13 -14 -15  16  17\n",
      "  18  19  20]\n"
     ]
    }
   ],
   "source": [
    "# The third task\n",
    "import numpy as np\n",
    "vector = np.arange(21)\n",
    "print(\"The initial vector of values:\", vector, sep=\"\\n\", end=\"\\n\\n\")\n",
    "vector[9:16] = vector[9:16] * -1\n",
    "print(\"The new vector of values:\", vector, sep=\"\\n\")"
   ]
  },
  {
   "cell_type": "code",
   "execution_count": 15,
   "id": "60e12d3b",
   "metadata": {},
   "outputs": [
    {
     "name": "stdout",
     "output_type": "stream",
     "text": [
      "The original matrix:\n",
      "[[632. 376. 609.  nan  nan]\n",
      " [776.  nan 998.  nan  nan]\n",
      " [ nan  nan 416.  nan 652.]\n",
      " [543.  nan  nan  nan  90.]\n",
      " [ nan  nan 635. 704. 868.]]\n",
      "\n",
      "Average values:\n",
      "[323.4 354.8 213.6 126.6 441.4]\n"
     ]
    }
   ],
   "source": [
    "# The fourth task\n",
    "import numpy as np\n",
    "from random import randint\n",
    "array = np.random.randint(low=0, high=1000, size=(5, 5)).astype(float)\n",
    "for i in range(5):\n",
    "    for j in range(randint(1, 5)):\n",
    "        array[i][randint(0, 4)] = np.nan\n",
    "print(\"The original matrix:\", array, sep=\"\\n\", end=\"\\n\\n\")\n",
    "matrix = np.nansum(array, axis=1) / 5\n",
    "print(\"Average values:\", matrix, sep=\"\\n\")"
   ]
  },
  {
   "cell_type": "code",
   "execution_count": null,
   "id": "55aa7906",
   "metadata": {},
   "outputs": [],
   "source": []
  }
 ],
 "metadata": {
  "kernelspec": {
   "display_name": "Python 3 (ipykernel)",
   "language": "python",
   "name": "python3"
  },
  "language_info": {
   "codemirror_mode": {
    "name": "ipython",
    "version": 3
   },
   "file_extension": ".py",
   "mimetype": "text/x-python",
   "name": "python",
   "nbconvert_exporter": "python",
   "pygments_lexer": "ipython3",
   "version": "3.10.2"
  }
 },
 "nbformat": 4,
 "nbformat_minor": 5
}
