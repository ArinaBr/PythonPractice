{
 "cells": [
  {
   "cell_type": "code",
   "execution_count": 1,
   "id": "09159989",
   "metadata": {},
   "outputs": [
    {
     "name": "stdout",
     "output_type": "stream",
     "text": [
      "3\n",
      "1 2 3\n",
      "4\n",
      "5 1 3 2\n",
      "6\n",
      "8 5 3 2 1\n",
      "3\n"
     ]
    }
   ],
   "source": [
    "def MergeSort(lst):\n",
    "    '''\n",
    "    Sorting numbers in ascending order.\n",
    "    \n",
    "    :param lst: arguments\n",
    "    :type lst: list\n",
    "    \n",
    "    '''\n",
    "    if len(lst) > 1: \n",
    "        mid = len(lst)//2\n",
    "        left = lst[:mid] \n",
    "        right = lst[mid:]\n",
    "        MergeSort(left) \n",
    "        MergeSort(right) \n",
    "        i = j = k = 0\n",
    "        while i < len(left) and j < len(right): \n",
    "            if left[i] < right[j]: \n",
    "                lst[k] = left[i] \n",
    "                i += 1\n",
    "            else: \n",
    "                lst[k] = right[j] \n",
    "                j += 1\n",
    "            k += 1\n",
    "        while i < len(left): \n",
    "            lst[k] = left[i] \n",
    "            i += 1\n",
    "            k += 1\n",
    "        while j < len(right): \n",
    "            lst[k] = right[j] \n",
    "            j += 1\n",
    "            k += 1\n",
    "\n",
    "n1 = int(input())\n",
    "s1 = [int(i) for i in input().split()]\n",
    "n2 = int(input())\n",
    "s2 = [int(i) for i in input().split()]\n",
    "n3 = int(input())\n",
    "s3 = [int(i) for i in input().split()]\n",
    "# Merging lists\n",
    "lst = s1 + s2 + s3\n",
    "MergeSort(lst)\n",
    "summ = 0\n",
    "for i in range(len(lst) - 2):\n",
    "    # Search for identical elements standing next to each other\n",
    "    if (lst[i] == lst[i + 1] == lst[i + 2]):\n",
    "        summ = summ + 1\n",
    "print(summ)"
   ]
  },
  {
   "cell_type": "code",
   "execution_count": null,
   "id": "3099c187",
   "metadata": {},
   "outputs": [],
   "source": []
  }
 ],
 "metadata": {
  "kernelspec": {
   "display_name": "Python 3 (ipykernel)",
   "language": "python",
   "name": "python3"
  },
  "language_info": {
   "codemirror_mode": {
    "name": "ipython",
    "version": 3
   },
   "file_extension": ".py",
   "mimetype": "text/x-python",
   "name": "python",
   "nbconvert_exporter": "python",
   "pygments_lexer": "ipython3",
   "version": "3.10.2"
  }
 },
 "nbformat": 4,
 "nbformat_minor": 5
}
