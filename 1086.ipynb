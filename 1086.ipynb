{
 "cells": [
  {
   "cell_type": "code",
   "execution_count": 9,
   "id": "e289200a",
   "metadata": {},
   "outputs": [
    {
     "name": "stdout",
     "output_type": "stream",
     "text": [
      "1\n",
      "1\n",
      "2\n"
     ]
    }
   ],
   "source": [
    "def simple_numbers(massif):\n",
    "    '''\n",
    "    Definition of simple and non-simple numbers.\n",
    "    \n",
    "    :param massif: arguments\n",
    "    :type massif: list\n",
    "    \n",
    "    :return massif: found simple and non-simple numbers\n",
    "    :type massif: list\n",
    "    \n",
    "    '''\n",
    "    for i in range(2, len(massif)):\n",
    "        if massif[i]:\n",
    "            if i != 2:\n",
    "                for j in range(i ** 2, len(massif), 2 * i):\n",
    "                    massif[j] = False\n",
    "            else:\n",
    "                for j in range(i ** 2, len(massif), i):\n",
    "                    massif[j] = False\n",
    "    return (massif)\n",
    "            \n",
    "\n",
    "massif = [True] * 163842\n",
    "massif = simple_numbers(massif)\n",
    "numbers = list()\n",
    "# Finding the values of simple numbers\n",
    "for i in range(2, 163842):\n",
    "    if massif[i]:\n",
    "        numbers.append(i)\n",
    "k = int(input())\n",
    "for i in range(k):\n",
    "    print(numbers[int(input()) - 1])"
   ]
  },
  {
   "cell_type": "code",
   "execution_count": null,
   "id": "6ce8ef52",
   "metadata": {},
   "outputs": [],
   "source": []
  }
 ],
 "metadata": {
  "kernelspec": {
   "display_name": "Python 3 (ipykernel)",
   "language": "python",
   "name": "python3"
  },
  "language_info": {
   "codemirror_mode": {
    "name": "ipython",
    "version": 3
   },
   "file_extension": ".py",
   "mimetype": "text/x-python",
   "name": "python",
   "nbconvert_exporter": "python",
   "pygments_lexer": "ipython3",
   "version": "3.10.2"
  }
 },
 "nbformat": 4,
 "nbformat_minor": 5
}
