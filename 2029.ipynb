{
 "cells": [
  {
   "cell_type": "code",
   "execution_count": 4,
   "id": "8aaaf61b",
   "metadata": {},
   "outputs": [
    {
     "name": "stdout",
     "output_type": "stream",
     "text": [
      "1\n",
      "B\n",
      "1\n"
     ]
    }
   ],
   "source": [
    "n = int(input())\n",
    "letters = list(input())\n",
    "# Initial state\n",
    "position = \"A\"\n",
    "quantity = 0\n",
    "for i in range(1, n + 1):\n",
    "    # The case when the final position is equal to the initial one\n",
    "    if letters[n - i] == position:\n",
    "        continue\n",
    "    # Other cases\n",
    "    else:\n",
    "        quantity = quantity + 2**(n - i)\n",
    "        s = \"A\"\n",
    "        if (s == letters[n - i] or s == position):\n",
    "            s = \"B\"\n",
    "        if (s == letters[n - i] or s == position):\n",
    "            s = \"C\"\n",
    "        position = s\n",
    "print(quantity)"
   ]
  },
  {
   "cell_type": "code",
   "execution_count": null,
   "id": "4c361286",
   "metadata": {},
   "outputs": [],
   "source": []
  }
 ],
 "metadata": {
  "kernelspec": {
   "display_name": "Python 3 (ipykernel)",
   "language": "python",
   "name": "python3"
  },
  "language_info": {
   "codemirror_mode": {
    "name": "ipython",
    "version": 3
   },
   "file_extension": ".py",
   "mimetype": "text/x-python",
   "name": "python",
   "nbconvert_exporter": "python",
   "pygments_lexer": "ipython3",
   "version": "3.10.2"
  }
 },
 "nbformat": 4,
 "nbformat_minor": 5
}
