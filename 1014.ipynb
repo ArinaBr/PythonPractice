{
 "cells": [
  {
   "cell_type": "code",
   "execution_count": 8,
   "id": "65d00cc3",
   "metadata": {},
   "outputs": [
    {
     "name": "stdout",
     "output_type": "stream",
     "text": [
      "10\n",
      "25\n"
     ]
    }
   ],
   "source": [
    "def sorting(lst):\n",
    "    '''\n",
    "    Sorting numbers in ascending order.\n",
    "    \n",
    "    :param lst: arguments\n",
    "    :type lst: list\n",
    "    \n",
    "    :return lst: sorting arguments\n",
    "    :type lst: list\n",
    "    \n",
    "    '''\n",
    "    for i in range(len(lst)):\n",
    "        pos = i\n",
    "        for j in range(i + 1, len(lst)):\n",
    "            if lst[pos] > lst[j]:\n",
    "                pos = j\n",
    "        if pos != i:\n",
    "            lst[pos], lst[i] = lst[i], lst[pos]\n",
    "    return(lst)\n",
    "\n",
    "\n",
    "N = int(input())\n",
    "Q = list()\n",
    "test = True\n",
    "if N == 0:\n",
    "    print(10)\n",
    "    test = False\n",
    "elif N == 1:\n",
    "    print(1)\n",
    "    test = False\n",
    "while test and N != 1:\n",
    "    # Finding the necessary multipliers\n",
    "    for i in range(9, 1, -1):\n",
    "        if N % i == 0:\n",
    "            Q.append(i)\n",
    "            N = N // i\n",
    "            break\n",
    "    else:\n",
    "        test = False\n",
    "        print(-1)\n",
    "if test == True:\n",
    "    Q = sorting(Q)\n",
    "    # Output of list elements\n",
    "    print(''.join(map(str, Q)))"
   ]
  },
  {
   "cell_type": "code",
   "execution_count": null,
   "id": "c757c506",
   "metadata": {},
   "outputs": [],
   "source": []
  }
 ],
 "metadata": {
  "kernelspec": {
   "display_name": "Python 3 (ipykernel)",
   "language": "python",
   "name": "python3"
  },
  "language_info": {
   "codemirror_mode": {
    "name": "ipython",
    "version": 3
   },
   "file_extension": ".py",
   "mimetype": "text/x-python",
   "name": "python",
   "nbconvert_exporter": "python",
   "pygments_lexer": "ipython3",
   "version": "3.10.2"
  }
 },
 "nbformat": 4,
 "nbformat_minor": 5
}
