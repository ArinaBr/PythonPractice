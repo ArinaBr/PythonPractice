{
 "cells": [
  {
   "cell_type": "code",
   "execution_count": 3,
   "id": "528bc5f3",
   "metadata": {},
   "outputs": [
    {
     "name": "stdout",
     "output_type": "stream",
     "text": [
      "17\n",
      "pack\n"
     ]
    }
   ],
   "source": [
    "# Вводится целое число - количество монстров.\n",
    "n = int(input())\n",
    "# По заданному количеству монстров определяется и выводится необходимое слово на языке аниндилъяква.\n",
    "if (n >= 1 and n <= 4):\n",
    "    print('few')\n",
    "elif (n >= 5 and n <= 9):\n",
    "    print('several')\n",
    "elif (n >= 10 and n <= 19):\n",
    "    print('pack')\n",
    "elif (n >= 20 and n <= 49):\n",
    "    print('lots')\n",
    "elif (n >= 50 and n <= 99):\n",
    "    print('horde')\n",
    "elif (n >= 100 and n <= 249):\n",
    "    print('throng')\n",
    "elif (n >= 250 and n <= 499):\n",
    "    print('swarm')\n",
    "elif (n >= 500 and n <= 999):\n",
    "    print('zounds')\n",
    "elif (n >= 1000 and n <= 2000):\n",
    "    print('legion')"
   ]
  },
  {
   "cell_type": "code",
   "execution_count": null,
   "id": "1185591f",
   "metadata": {},
   "outputs": [],
   "source": []
  }
 ],
 "metadata": {
  "kernelspec": {
   "display_name": "Python 3 (ipykernel)",
   "language": "python",
   "name": "python3"
  },
  "language_info": {
   "codemirror_mode": {
    "name": "ipython",
    "version": 3
   },
   "file_extension": ".py",
   "mimetype": "text/x-python",
   "name": "python",
   "nbconvert_exporter": "python",
   "pygments_lexer": "ipython3",
   "version": "3.10.2"
  }
 },
 "nbformat": 4,
 "nbformat_minor": 5
}
