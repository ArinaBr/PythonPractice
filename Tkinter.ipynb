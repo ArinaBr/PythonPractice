{
 "cells": [
  {
   "cell_type": "code",
   "execution_count": 6,
   "id": "510dff6c",
   "metadata": {},
   "outputs": [],
   "source": [
    "from tkinter import *\n",
    "def toRight():\n",
    "    selectToRight = left.curselection()   # Получение индексов выбранных элементов списка.\n",
    "    for i in selectToRight:\n",
    "        right.insert(END, left.get(i))    # Добавление элемента в список с конца.\n",
    "    for i in reversed(selectToRight):     # Переворачивание списка.\n",
    "        left.delete(i)                    # Удаление выбранного элемента из исходного списка.\n",
    "def toLeft():\n",
    "    selectToLeft = right.curselection()   # Получение индексов выбранных элементов списка.\n",
    "    for i in selectToLeft:\n",
    "        left.insert(END, right.get(i))    # Добавление элемента в список с конца.\n",
    "    for i in reversed(selectToLeft):      # Переворачивание списка.\n",
    "        right.delete(i)                   # Удаление выбранного элемента из исходного списка.\n",
    "root = Tk()\n",
    "left = Listbox(selectmode=EXTENDED)       # Создание списка со способностью множественного выделения.\n",
    "for i in (\"KVBO-09\", \"KVBO-08\", \"KVBO-07\", \"KVBO-06\", \"KVBO-05\", \"KVBO-04\", \"KVBO-03\", \"KVBO-02\", \"KVBO-01\"):\n",
    "    left.insert(0,i)\n",
    "left.pack(side=LEFT)                      # Размещение области слева.\n",
    "scroll = Scrollbar(command=left.yview)    # Добавление полосы прокрутки.\n",
    "scroll.pack(side=LEFT, fill=Y)\n",
    "left.config(yscrollcommand=scroll.set)\n",
    "right = Listbox(selectmode=EXTENDED)      # Создание списка со способностью множественного выделения.\n",
    "right.pack(side=RIGHT)                    # Размещение области справа.\n",
    "scroll = Scrollbar(command=right.yview)   # Добавление полосы прокрутки.\n",
    "scroll.pack(side=RIGHT, fill=Y)\n",
    "right.config(yscrollcommand=scroll.set)\n",
    "f = Frame()\n",
    "f.pack(side=LEFT, padx=30)                # Размещение кнопок с отступами.\n",
    "Button(f, text=\"Перенести в правую колонку группу\", command=toRight).pack(fill=X)   # Создание кнопки с заданной командой и способностью растягиваться по горизонтали.\n",
    "Button(f, text=\"Перенести в левую колонку группу\", command=toLeft).pack(fill=X)\n",
    "root.mainloop()                           # Открытие окна."
   ]
  },
  {
   "cell_type": "code",
   "execution_count": 14,
   "id": "ee8720ea",
   "metadata": {},
   "outputs": [
    {
     "data": {
      "text/plain": [
       "[('и', 10825), ('в', 5393), ('не', 4556), ('что', 4068), ('он', 3867)]"
      ]
     },
     "execution_count": 14,
     "metadata": {},
     "output_type": "execute_result"
    }
   ],
   "source": [
    "import collections\n",
    "import re\n",
    "words = re.findall(r'\\w+', open('E:\\\\File.txt', encoding=\"utf-8\").read().lower(), )\n",
    "collections.Counter(words).most_common(5)"
   ]
  },
  {
   "cell_type": "code",
   "execution_count": null,
   "id": "834f1a6a",
   "metadata": {},
   "outputs": [],
   "source": []
  }
 ],
 "metadata": {
  "kernelspec": {
   "display_name": "Python 3 (ipykernel)",
   "language": "python",
   "name": "python3"
  },
  "language_info": {
   "codemirror_mode": {
    "name": "ipython",
    "version": 3
   },
   "file_extension": ".py",
   "mimetype": "text/x-python",
   "name": "python",
   "nbconvert_exporter": "python",
   "pygments_lexer": "ipython3",
   "version": "3.10.2"
  }
 },
 "nbformat": 4,
 "nbformat_minor": 5
}
