{
 "cells": [
  {
   "cell_type": "code",
   "execution_count": 1,
   "id": "cb391c7b",
   "metadata": {},
   "outputs": [
    {
     "name": "stdout",
     "output_type": "stream",
     "text": [
      "10\n",
      "25\n",
      "5\n"
     ]
    }
   ],
   "source": [
    "a = int(input())\n",
    "b = int(input())\n",
    "while a != 0 and b != 0:\n",
    "    if a > b:\n",
    "        a = a % b\n",
    "    else:\n",
    "        b = b % a\n",
    "print(a + b)"
   ]
  },
  {
   "cell_type": "code",
   "execution_count": 5,
   "id": "6d56bc4e",
   "metadata": {},
   "outputs": [
    {
     "name": "stdout",
     "output_type": "stream",
     "text": [
      "30\n",
      "12\n",
      "6\n"
     ]
    }
   ],
   "source": [
    "def evk(a, b):\n",
    "    '''\n",
    "    Finding the greatest common divisor.\n",
    "    \n",
    "    :param a, b: arguments\n",
    "    :type a, b: int\n",
    "    \n",
    "    :return b: the greatest common divisor\n",
    "    :type b: int\n",
    "    \n",
    "    '''\n",
    "    if a == 0:\n",
    "        return b\n",
    "    return evk(b % a, a)\n",
    "\n",
    "a = int(input())\n",
    "b = int(input())\n",
    "print(evk(a, b))"
   ]
  },
  {
   "cell_type": "code",
   "execution_count": null,
   "id": "6d4bf319",
   "metadata": {},
   "outputs": [],
   "source": []
  }
 ],
 "metadata": {
  "kernelspec": {
   "display_name": "Python 3 (ipykernel)",
   "language": "python",
   "name": "python3"
  },
  "language_info": {
   "codemirror_mode": {
    "name": "ipython",
    "version": 3
   },
   "file_extension": ".py",
   "mimetype": "text/x-python",
   "name": "python",
   "nbconvert_exporter": "python",
   "pygments_lexer": "ipython3",
   "version": "3.10.2"
  }
 },
 "nbformat": 4,
 "nbformat_minor": 5
}
