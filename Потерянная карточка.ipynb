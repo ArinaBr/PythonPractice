{
 "cells": [
  {
   "cell_type": "code",
   "execution_count": 1,
   "id": "065ca355",
   "metadata": {},
   "outputs": [
    {
     "name": "stdout",
     "output_type": "stream",
     "text": [
      "Количество карточек: 10\n",
      "8\n",
      "6\n",
      "9\n",
      "4\n",
      "1\n",
      "2\n",
      "3\n",
      "7\n",
      "10\n",
      "Номер утерянной карточки: 5\n"
     ]
    }
   ],
   "source": [
    "n=int(input('Количество карточек: '))\n",
    "a=sum(range(1, n+1))\n",
    "for i in range(n-1):\n",
    "    a=a-int(input())\n",
    "print('Номер утерянной карточки:', a)"
   ]
  },
  {
   "cell_type": "code",
   "execution_count": null,
   "id": "04d05bc9",
   "metadata": {},
   "outputs": [],
   "source": []
  }
 ],
 "metadata": {
  "kernelspec": {
   "display_name": "Python 3 (ipykernel)",
   "language": "python",
   "name": "python3"
  },
  "language_info": {
   "codemirror_mode": {
    "name": "ipython",
    "version": 3
   },
   "file_extension": ".py",
   "mimetype": "text/x-python",
   "name": "python",
   "nbconvert_exporter": "python",
   "pygments_lexer": "ipython3",
   "version": "3.10.2"
  }
 },
 "nbformat": 4,
 "nbformat_minor": 5
}
