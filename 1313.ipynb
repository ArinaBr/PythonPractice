{
 "cells": [
  {
   "cell_type": "code",
   "execution_count": 12,
   "id": "6893661a",
   "metadata": {},
   "outputs": [
    {
     "name": "stdout",
     "output_type": "stream",
     "text": [
      "4\n",
      "1 3 6 10\n",
      "2 5 9 13\n",
      "4 8 12 15\n",
      "7 11 14 16\n",
      "1 2 3 4 5 6 7 8 9 10 11 12 13 14 15 16 \n"
     ]
    }
   ],
   "source": [
    "N = int(input())\n",
    "videocard = list()\n",
    "for i in range(N):\n",
    "    videocard.append(input().split())\n",
    "converter = ''\n",
    "# Output of new pixels including the entire first column of old pixels\n",
    "for i in range(N):\n",
    "    j = i\n",
    "    k = 0\n",
    "    while j >= 0:\n",
    "        converter = converter + videocard[j][k] + ' '\n",
    "        j = j - 1\n",
    "        k = k + 1\n",
    "# Output of the remaining pixels\n",
    "for i in range(1, N):\n",
    "    j = N - 1\n",
    "    k = i\n",
    "    while k != N:\n",
    "        converter = converter + videocard[j][k] + ' '\n",
    "        j = j - 1\n",
    "        k = k + 1\n",
    "print(converter)"
   ]
  },
  {
   "cell_type": "code",
   "execution_count": null,
   "id": "262acd0a",
   "metadata": {},
   "outputs": [],
   "source": []
  }
 ],
 "metadata": {
  "kernelspec": {
   "display_name": "Python 3 (ipykernel)",
   "language": "python",
   "name": "python3"
  },
  "language_info": {
   "codemirror_mode": {
    "name": "ipython",
    "version": 3
   },
   "file_extension": ".py",
   "mimetype": "text/x-python",
   "name": "python",
   "nbconvert_exporter": "python",
   "pygments_lexer": "ipython3",
   "version": "3.10.2"
  }
 },
 "nbformat": 4,
 "nbformat_minor": 5
}
