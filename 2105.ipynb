{
 "cells": [
  {
   "cell_type": "code",
   "execution_count": 1,
   "id": "cf8ceae4",
   "metadata": {},
   "outputs": [
    {
     "name": "stdout",
     "output_type": "stream",
     "text": [
      "10 10 2 1\n",
      "3\n",
      "1 1 1\n",
      "1 2 2\n",
      "2 2 1\n",
      "2\n"
     ]
    }
   ],
   "source": [
    "characteristic = input().split()\n",
    "characteristic = [int(i) for i in characteristic]\n",
    "L = characteristic[0]\n",
    "T = characteristic[1]\n",
    "Va = characteristic[2]\n",
    "Vb = characteristic[3]\n",
    "n = int(input())\n",
    "# A variable indicating the desired number of meetings\n",
    "meetings = (Va + Vb) * T\n",
    "for i in range(n):\n",
    "    time = input().split()\n",
    "    meetings = meetings - characteristic[int(time[0]) + 1] * int(time[2])\n",
    "meetings = meetings // L\n",
    "print(meetings)"
   ]
  },
  {
   "cell_type": "code",
   "execution_count": null,
   "id": "b98a1917",
   "metadata": {},
   "outputs": [],
   "source": []
  }
 ],
 "metadata": {
  "kernelspec": {
   "display_name": "Python 3 (ipykernel)",
   "language": "python",
   "name": "python3"
  },
  "language_info": {
   "codemirror_mode": {
    "name": "ipython",
    "version": 3
   },
   "file_extension": ".py",
   "mimetype": "text/x-python",
   "name": "python",
   "nbconvert_exporter": "python",
   "pygments_lexer": "ipython3",
   "version": "3.10.2"
  }
 },
 "nbformat": 4,
 "nbformat_minor": 5
}
