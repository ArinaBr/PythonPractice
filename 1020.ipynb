{
 "cells": [
  {
   "cell_type": "code",
   "execution_count": 14,
   "id": "443972f6",
   "metadata": {},
   "outputs": [
    {
     "name": "stdout",
     "output_type": "stream",
     "text": [
      "1 0.5\n",
      "5.4 7.2\n",
      "3.14\n"
     ]
    }
   ],
   "source": [
    "N, R = input().split()\n",
    "N = int(N)\n",
    "R = float(R)\n",
    "coordinates = list()\n",
    "for i in range(N):\n",
    "    coordinates.append(input().split())\n",
    "length = 0\n",
    "# Distance between the centers of nails\n",
    "for i in range(N - 1):\n",
    "    length = length + ((float(coordinates[i][0]) - float(coordinates[i + 1][0]))**2 + (float(coordinates[i][1]) - float(coordinates[i + 1][1]))**2)**0.5\n",
    "# Full length of thread\n",
    "length = length + ((float(coordinates[0][0]) - float(coordinates[N - 1][0]))**2 + (float(coordinates[0][1]) - float(coordinates[N - 1][1]))**2)**0.5 + 2*3.14*R\n",
    "print(round(length, 2))"
   ]
  },
  {
   "cell_type": "code",
   "execution_count": null,
   "id": "8cb997a2",
   "metadata": {},
   "outputs": [],
   "source": []
  }
 ],
 "metadata": {
  "kernelspec": {
   "display_name": "Python 3 (ipykernel)",
   "language": "python",
   "name": "python3"
  },
  "language_info": {
   "codemirror_mode": {
    "name": "ipython",
    "version": 3
   },
   "file_extension": ".py",
   "mimetype": "text/x-python",
   "name": "python",
   "nbconvert_exporter": "python",
   "pygments_lexer": "ipython3",
   "version": "3.10.2"
  }
 },
 "nbformat": 4,
 "nbformat_minor": 5
}
