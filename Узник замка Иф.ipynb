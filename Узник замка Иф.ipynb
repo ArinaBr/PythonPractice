{
 "cells": [
  {
   "cell_type": "code",
   "execution_count": 2,
   "id": "d44dcb3d",
   "metadata": {},
   "outputs": [
    {
     "name": "stdout",
     "output_type": "stream",
     "text": [
      "Введите размер кирпичей - a, b, c и размер отверстия - d, e: 1 1 1 2 2\n",
      "Yes\n"
     ]
    }
   ],
   "source": [
    "a, b, c, d, e = map(int, input('Введите размер кирпичей - a, b, c и размер отверстия - d, e: ').split())\n",
    "if (a<=d and b<=e or b<=d and a<=e):\n",
    "    print('Yes')\n",
    "elif (b<=d and c<=e or c<=d and b<=e):\n",
    "    print('Yes')\n",
    "elif (a<=d and c<=e or c<=d and a<=e):\n",
    "    print('Yes')\n",
    "else:\n",
    "    print('No')"
   ]
  },
  {
   "cell_type": "code",
   "execution_count": null,
   "id": "662a909e",
   "metadata": {},
   "outputs": [],
   "source": []
  }
 ],
 "metadata": {
  "kernelspec": {
   "display_name": "Python 3 (ipykernel)",
   "language": "python",
   "name": "python3"
  },
  "language_info": {
   "codemirror_mode": {
    "name": "ipython",
    "version": 3
   },
   "file_extension": ".py",
   "mimetype": "text/x-python",
   "name": "python",
   "nbconvert_exporter": "python",
   "pygments_lexer": "ipython3",
   "version": "3.10.2"
  }
 },
 "nbformat": 4,
 "nbformat_minor": 5
}
