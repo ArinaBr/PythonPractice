{
 "cells": [
  {
   "cell_type": "code",
   "execution_count": 43,
   "id": "92821acd",
   "metadata": {},
   "outputs": [
    {
     "name": "stdout",
     "output_type": "stream",
     "text": [
      "7 3\n",
      "1 2 30 40 50 600 700\n",
      "   1  40 700\n",
      "   2  50    \n",
      "  30 600    \n"
     ]
    }
   ],
   "source": [
    "n, k = map(int, input().split())\n",
    "s = [int(i) for i in input().split()]\n",
    "# Counting the number of equal columns\n",
    "a = n//k\n",
    "if n%k != 0:\n",
    "    a = a + 1\n",
    "# Increasing the size of the array\n",
    "x = a*k - n\n",
    "g = [0]*x\n",
    "s.extend(g)\n",
    "for r in range(n, a*k, 1):\n",
    "    s[r] = -1\n",
    "# Splitting into equal columns\n",
    "for j in range(0, a, 1):\n",
    "    for y in range(0, k, 1):\n",
    "        f = y*a + j\n",
    "        if (s[f] < 0):\n",
    "            print(f'    ', end = '')\n",
    "        if (s[f] > -1 and s[f] < 10):\n",
    "            print(f'   {s[f]}', end = '')\n",
    "        if (s[f] > 9 and s[f] < 100):\n",
    "            print(f'  {s[f]}', end = '')\n",
    "        if (s[f] > 99 and s[f] < 1000):\n",
    "            print(f' {s[f]}', end = '')\n",
    "    print('')"
   ]
  },
  {
   "cell_type": "code",
   "execution_count": null,
   "id": "f77a1db9",
   "metadata": {},
   "outputs": [],
   "source": []
  }
 ],
 "metadata": {
  "kernelspec": {
   "display_name": "Python 3 (ipykernel)",
   "language": "python",
   "name": "python3"
  },
  "language_info": {
   "codemirror_mode": {
    "name": "ipython",
    "version": 3
   },
   "file_extension": ".py",
   "mimetype": "text/x-python",
   "name": "python",
   "nbconvert_exporter": "python",
   "pygments_lexer": "ipython3",
   "version": "3.10.2"
  }
 },
 "nbformat": 4,
 "nbformat_minor": 5
}
