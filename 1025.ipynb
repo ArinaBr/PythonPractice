{
 "cells": [
  {
   "cell_type": "code",
   "execution_count": 1,
   "id": "dc8197f3",
   "metadata": {},
   "outputs": [
    {
     "name": "stdout",
     "output_type": "stream",
     "text": [
      "3\n",
      "7 5 5\n",
      "6\n"
     ]
    }
   ],
   "source": [
    "def BubbleSort(lst):\n",
    "    '''\n",
    "    Sorting numbers in ascending order.\n",
    "    \n",
    "    :param lst: arguments\n",
    "    :type lst: list\n",
    "    \n",
    "    :return lst: sorting arguments\n",
    "    :type lst: list\n",
    "    \n",
    "    '''\n",
    "    for i in range(k - 1):\n",
    "        for j in range(k - 1 - i):\n",
    "            if lst[j] > lst[j + 1]:\n",
    "                temp = lst[j]\n",
    "                lst[j] = lst[j + 1]\n",
    "                lst[j + 1] = temp\n",
    "    return (lst)\n",
    "\n",
    "k = int(input())\n",
    "lst = [int(i) for i in input().split()]\n",
    "BubbleSort(lst)\n",
    "summ = 0\n",
    "# Working with more than half of all groups\n",
    "for i in range(k//2 + 1):\n",
    "    # Working with more than half of all people in the same group\n",
    "    summ = summ + (lst[i]//2 + 1)\n",
    "print(summ)"
   ]
  },
  {
   "cell_type": "code",
   "execution_count": null,
   "id": "50fec569",
   "metadata": {},
   "outputs": [],
   "source": []
  }
 ],
 "metadata": {
  "kernelspec": {
   "display_name": "Python 3 (ipykernel)",
   "language": "python",
   "name": "python3"
  },
  "language_info": {
   "codemirror_mode": {
    "name": "ipython",
    "version": 3
   },
   "file_extension": ".py",
   "mimetype": "text/x-python",
   "name": "python",
   "nbconvert_exporter": "python",
   "pygments_lexer": "ipython3",
   "version": "3.10.2"
  }
 },
 "nbformat": 4,
 "nbformat_minor": 5
}
