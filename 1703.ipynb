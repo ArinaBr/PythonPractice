{
 "cells": [
  {
   "cell_type": "code",
   "execution_count": 5,
   "id": "972d4cb1",
   "metadata": {},
   "outputs": [
    {
     "name": "stdout",
     "output_type": "stream",
     "text": [
      "8 6\n",
      "-10 10 0\n",
      "10 10 0\n",
      "0.0 6.4 4.8 1.5707963267948966\n"
     ]
    }
   ],
   "source": [
    "import math\n",
    "a, b = map(int, input().split())\n",
    "coordinates1 = list(map(int, input().split()))\n",
    "coordinates2 = list(map(int, input().split()))\n",
    "difference = [coordinates1[0] - coordinates2[0], coordinates1[1] - coordinates2[1], coordinates1[2] - coordinates2[2]]\n",
    "length1 = (difference[0]**2 + difference[1]**2 + difference[2]**2)**(0.5)\n",
    "length2 = (coordinates2[0]**2 - coordinates1[0] * coordinates2[0] + coordinates2[1]**2 - coordinates1[1] * coordinates2[1] + coordinates2[2]**2 - coordinates1[2] * coordinates2[2]) / (length1**2)\n",
    "hypotenuse = [(coordinates1[0] - coordinates2[0]) * length2 + coordinates2[0], (coordinates1[1] - coordinates2[1]) * length2 + coordinates2[1], (coordinates1[2] - coordinates2[2]) * length2 + coordinates2[2]]\n",
    "length3 = (hypotenuse[0]**2 + hypotenuse[1]**2 + hypotenuse[2]**2)**(0.5)\n",
    "limit = 0.00000000001\n",
    "if (length3 - (a + b) > limit) or ((a**2 + b**2)**(0.5) - length3 > limit):\n",
    "    print(\"No solution.\")\n",
    "    exit()\n",
    "else:\n",
    "    angle = math.acos((a**2 + b**2 - length3**2) / (2 * a * b))\n",
    "    perimeter = (a + b + length3) / 2\n",
    "    height = 2 * ((perimeter * (perimeter - a) * (perimeter - b) * (perimeter - length3))**(0.5)) / length3\n",
    "    cathet = (a**2 - height**2)**(0.5)\n",
    "    for i in range(3):\n",
    "        hypotenuse[i] = hypotenuse[i] / length3\n",
    "        difference[i] = difference[i] / length1\n",
    "    handrail = [hypotenuse[0] * cathet, hypotenuse[1] * cathet, hypotenuse[2] * cathet]\n",
    "    claw = [difference[1] * hypotenuse[2] - difference[2] * hypotenuse[1], difference[2] * hypotenuse[0] - difference[0] * hypotenuse[2], difference[0] * hypotenuse[1] - difference[1] * hypotenuse[0]]\n",
    "    for i in range(3):\n",
    "        claw[i] = claw[i] * height\n",
    "    position = [-claw[0] + handrail[0], -claw[1] + handrail[1], -claw[2] + handrail[2]]\n",
    "    # Output of all the required list items and a variable\n",
    "    print(' '.join(map(str, position)), angle)"
   ]
  },
  {
   "cell_type": "code",
   "execution_count": null,
   "id": "1ade03f8",
   "metadata": {},
   "outputs": [],
   "source": []
  }
 ],
 "metadata": {
  "kernelspec": {
   "display_name": "Python 3 (ipykernel)",
   "language": "python",
   "name": "python3"
  },
  "language_info": {
   "codemirror_mode": {
    "name": "ipython",
    "version": 3
   },
   "file_extension": ".py",
   "mimetype": "text/x-python",
   "name": "python",
   "nbconvert_exporter": "python",
   "pygments_lexer": "ipython3",
   "version": "3.10.2"
  }
 },
 "nbformat": 4,
 "nbformat_minor": 5
}
