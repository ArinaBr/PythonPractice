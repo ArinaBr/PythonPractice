{
 "cells": [
  {
   "cell_type": "code",
   "execution_count": 23,
   "id": "91c54620",
   "metadata": {},
   "outputs": [
    {
     "name": "stdout",
     "output_type": "stream",
     "text": [
      "Вводите любые элементы последовательности, кроме 0, друг за другом, после каждого элемента используйте Enter. В конце поставьте 0.\n",
      "8\n",
      "8\n",
      "5\n",
      "5\n",
      "5\n",
      "6\n",
      "6\n",
      "0\n",
      "Наибольшее количество повторений числа: 3\n",
      "Данное число: 5\n"
     ]
    }
   ],
   "source": [
    "print('Вводите любые элементы последовательности, кроме 0, друг за другом, после каждого элемента используйте Enter. В конце поставьте 0.')\n",
    "a=1\n",
    "b=1\n",
    "x=int(input())\n",
    "c=x\n",
    "while (x!=0):\n",
    "    y=int(input())\n",
    "    if (x==y):\n",
    "        a=a+1\n",
    "    else:\n",
    "        x=y\n",
    "        a=1\n",
    "    if(a>b):\n",
    "        b=a\n",
    "        n=y\n",
    "print('Наибольшее количество повторений числа:', b)\n",
    "if (b==1):\n",
    "    print('Данное число:', c)\n",
    "else:\n",
    "    print('Данное число:', n)"
   ]
  },
  {
   "cell_type": "code",
   "execution_count": null,
   "id": "4ba880fb",
   "metadata": {},
   "outputs": [],
   "source": []
  }
 ],
 "metadata": {
  "kernelspec": {
   "display_name": "Python 3 (ipykernel)",
   "language": "python",
   "name": "python3"
  },
  "language_info": {
   "codemirror_mode": {
    "name": "ipython",
    "version": 3
   },
   "file_extension": ".py",
   "mimetype": "text/x-python",
   "name": "python",
   "nbconvert_exporter": "python",
   "pygments_lexer": "ipython3",
   "version": "3.10.2"
  }
 },
 "nbformat": 4,
 "nbformat_minor": 5
}
