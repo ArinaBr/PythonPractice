{
 "cells": [
  {
   "cell_type": "code",
   "execution_count": 22,
   "id": "c3f4fdda",
   "metadata": {},
   "outputs": [
    {
     "name": "stdout",
     "output_type": "stream",
     "text": [
      "8\n",
      "1 1 2 3 3 3 10 10\n",
      "2 1 1 2 3 3 2 10\n"
     ]
    }
   ],
   "source": [
    "N = int(input())\n",
    "Vasya = [int(i) for i in input().split()]\n",
    "number = Vasya[0]\n",
    "quantity = 0\n",
    "Petya = list()\n",
    "for i in range(N):\n",
    "    if Vasya[i] == number:\n",
    "        quantity = quantity + 1\n",
    "    else:\n",
    "        Petya.append(quantity)\n",
    "        Petya.append(number)\n",
    "        quantity = 1\n",
    "    # End of sequence\n",
    "    if i == N - 1:\n",
    "        Petya.append(quantity)\n",
    "        Petya.append(Vasya[i])\n",
    "    number = Vasya[i]\n",
    "# Output of list items\n",
    "print(*Petya, sep = ' ')"
   ]
  },
  {
   "cell_type": "code",
   "execution_count": null,
   "id": "b03e856c",
   "metadata": {},
   "outputs": [],
   "source": []
  }
 ],
 "metadata": {
  "kernelspec": {
   "display_name": "Python 3 (ipykernel)",
   "language": "python",
   "name": "python3"
  },
  "language_info": {
   "codemirror_mode": {
    "name": "ipython",
    "version": 3
   },
   "file_extension": ".py",
   "mimetype": "text/x-python",
   "name": "python",
   "nbconvert_exporter": "python",
   "pygments_lexer": "ipython3",
   "version": "3.10.2"
  }
 },
 "nbformat": 4,
 "nbformat_minor": 5
}
