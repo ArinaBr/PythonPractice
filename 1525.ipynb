{
 "cells": [
  {
   "cell_type": "code",
   "execution_count": 6,
   "id": "1e7d8001",
   "metadata": {},
   "outputs": [
    {
     "name": "stdout",
     "output_type": "stream",
     "text": [
      "13 14 15\n",
      "uudlbdrruffbr\n",
      "1560\n"
     ]
    }
   ],
   "source": [
    "import sys\n",
    "n, m, k = map(int, input().split())\n",
    "instructions = sys.stdin.readline()\n",
    "step = 3 * [0]\n",
    "maximum = 6 * [0]\n",
    "for i in instructions:\n",
    "    if i == 'l':\n",
    "        step[0] = step[0] + 1\n",
    "    if i == 'r':\n",
    "        step[0] = step[0] - 1\n",
    "    if i == 'u':\n",
    "        step[1] = step[1] + 1\n",
    "    if i == 'd':\n",
    "        step[1] = step[1] - 1\n",
    "    if i == 'f':\n",
    "        step[2] = step[2] + 1\n",
    "    if i == 'b':\n",
    "        step[2] = step[2] - 1\n",
    "    for j in range(3):\n",
    "        if step[j] > maximum[j * 2]:\n",
    "            maximum[j * 2] = step[j]\n",
    "        if step[j] < maximum[(j * 2) + 1]:\n",
    "            maximum[(j * 2) + 1] = step[j]\n",
    "n = n - (maximum[0] - maximum[1])\n",
    "m = m - (maximum[2] - maximum[3])\n",
    "k = k - (maximum[4] - maximum[5])\n",
    "if n < 1:\n",
    "    n = 1\n",
    "if m < 1:\n",
    "    m = 1\n",
    "if k < 1:\n",
    "    k = 1\n",
    "# Number of initial positions\n",
    "positions = n * m * k\n",
    "print(positions)"
   ]
  }
 ],
 "metadata": {
  "kernelspec": {
   "display_name": "Python 3 (ipykernel)",
   "language": "python",
   "name": "python3"
  },
  "language_info": {
   "codemirror_mode": {
    "name": "ipython",
    "version": 3
   },
   "file_extension": ".py",
   "mimetype": "text/x-python",
   "name": "python",
   "nbconvert_exporter": "python",
   "pygments_lexer": "ipython3",
   "version": "3.10.2"
  }
 },
 "nbformat": 4,
 "nbformat_minor": 5
}
