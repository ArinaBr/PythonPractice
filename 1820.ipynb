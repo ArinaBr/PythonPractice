{
 "cells": [
  {
   "cell_type": "code",
   "execution_count": 4,
   "id": "15a5eb2f",
   "metadata": {},
   "outputs": [
    {
     "name": "stdout",
     "output_type": "stream",
     "text": [
      "4 3\n",
      "3\n"
     ]
    }
   ],
   "source": [
    "n, k = map(int, input().split())\n",
    "# Случай, когда места на сковороде достаточно\n",
    "if k >= n:\n",
    "    print(2)\n",
    "# Случай, когда бифштексы, обжаренные с 2 сторон, поместятся ровно в выделенные места\n",
    "elif (2*n)%k == 0:\n",
    "    print(int(2*n/k))\n",
    "else:\n",
    "    # Бифштексы не поместятся ровно в выделенные места, необходимо добавить еще одну минуту\n",
    "    print(int(2*n/k+1))"
   ]
  },
  {
   "cell_type": "code",
   "execution_count": null,
   "id": "6973f2a8",
   "metadata": {},
   "outputs": [],
   "source": []
  }
 ],
 "metadata": {
  "kernelspec": {
   "display_name": "Python 3 (ipykernel)",
   "language": "python",
   "name": "python3"
  },
  "language_info": {
   "codemirror_mode": {
    "name": "ipython",
    "version": 3
   },
   "file_extension": ".py",
   "mimetype": "text/x-python",
   "name": "python",
   "nbconvert_exporter": "python",
   "pygments_lexer": "ipython3",
   "version": "3.10.2"
  }
 },
 "nbformat": 4,
 "nbformat_minor": 5
}
