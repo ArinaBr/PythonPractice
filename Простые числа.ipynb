{
 "cells": [
  {
   "cell_type": "code",
   "execution_count": 1,
   "id": "e52cce81",
   "metadata": {},
   "outputs": [
    {
     "name": "stdout",
     "output_type": "stream",
     "text": [
      "Enter any number: 15\n",
      "All simple numbers: 2 3 5 7 11 13\n"
     ]
    }
   ],
   "source": [
    "# Функция поиска простых чисел\n",
    "def simple_numbers(num):\n",
    "    '''\n",
    "    Search for all simple numbers in a given interval.\n",
    "    \n",
    "    :param num: variable argument\n",
    "    :type num: int\n",
    "    \n",
    "    :return otv: all simple numbers in the interval from 2 to the entered variable argument\n",
    "    :rtype otv: str\n",
    "    \n",
    "    '''\n",
    "    # Создание списка для проверки делимости / неделимости чисел\n",
    "    lst = list()\n",
    "    # Создание списка для вывода искомых простых чисел\n",
    "    otv = list()\n",
    "    # Заполнение списка проверки от числа 0 до введённого числа истинными значениями\n",
    "    for i in range (num + 1):\n",
    "        lst.append(True)\n",
    "    # Присваивание числу 0 и числу 1 ложных значений, так как они заведомо не являются простыми числами\n",
    "    lst[0] = False\n",
    "    lst[1] = False\n",
    "    # Создание цикла от 2 до введённого числа\n",
    "    for i in range(2, len(lst)):\n",
    "        # Создание цикла от числа, кратного определённому числу, до введённого числа\n",
    "        for j in range(i + i, len(lst)):\n",
    "            # Проверка делимости двух чисел; если условие выполняется, то присваивание делимому ложного значения\n",
    "            if j%i == 0:\n",
    "                lst[j] = False\n",
    "        # Заполнение списка вывода числами, имеющими истинное значение, то есть являющимися простыми\n",
    "        if lst[i] == True:\n",
    "            otv.append(i)\n",
    "    # Преобразование списка в строку; возврат данного списка, являющегося ответом\n",
    "    return (' '.join(map(str, otv)))\n",
    "            \n",
    "            \n",
    "# Ввод любого числа, до которого будет выполняться поиск простых чисел\n",
    "num = int(input('Enter any number: '))\n",
    "# Вызов функции поиска простых чисел и вывод требуемого ответа\n",
    "s = simple_numbers(num)\n",
    "print('All simple numbers:', s)"
   ]
  },
  {
   "cell_type": "code",
   "execution_count": null,
   "id": "75036437",
   "metadata": {},
   "outputs": [],
   "source": []
  }
 ],
 "metadata": {
  "kernelspec": {
   "display_name": "Python 3 (ipykernel)",
   "language": "python",
   "name": "python3"
  },
  "language_info": {
   "codemirror_mode": {
    "name": "ipython",
    "version": 3
   },
   "file_extension": ".py",
   "mimetype": "text/x-python",
   "name": "python",
   "nbconvert_exporter": "python",
   "pygments_lexer": "ipython3",
   "version": "3.10.2"
  }
 },
 "nbformat": 4,
 "nbformat_minor": 5
}
