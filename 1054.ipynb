{
 "cells": [
  {
   "cell_type": "code",
   "execution_count": 7,
   "id": "d11d4236",
   "metadata": {},
   "outputs": [
    {
     "name": "stdout",
     "output_type": "stream",
     "text": [
      "1\n",
      "3\n",
      "-1\n"
     ]
    }
   ],
   "source": [
    "def Hanoi(N, From, To, Temp):\n",
    "    '''\n",
    "    Solving the problem about Hanoi Towers.\n",
    "    \n",
    "    :params N, From, To, Temp: arguments\n",
    "    :types N, From, To, Temp: int\n",
    "    \n",
    "    :return answer: number of actions\n",
    "    :type answer: int\n",
    "    \n",
    "    '''\n",
    "    global test\n",
    "    global D\n",
    "    if N == 0:\n",
    "        answer = 0\n",
    "        return answer\n",
    "    if D[N - 1] == From:\n",
    "        answer = Hanoi(N - 1, From, Temp, To)\n",
    "        return answer\n",
    "    elif D[N - 1] == To:\n",
    "        answer = 2 ** (N - 1) + Hanoi(N - 1, Temp, To, From)\n",
    "        return answer\n",
    "    test = False\n",
    "    return 0\n",
    "\n",
    "\n",
    "N = int(input())\n",
    "D = list()\n",
    "for i in range(N):\n",
    "    D.append(int(input()))\n",
    "test = True\n",
    "moves = Hanoi(N, 1, 2, 3)\n",
    "# Checking whether it is possible to get a given position\n",
    "if test == True:\n",
    "    print(moves)\n",
    "else:\n",
    "    print(-1)"
   ]
  },
  {
   "cell_type": "code",
   "execution_count": null,
   "id": "3b40adcf",
   "metadata": {},
   "outputs": [],
   "source": []
  }
 ],
 "metadata": {
  "kernelspec": {
   "display_name": "Python 3 (ipykernel)",
   "language": "python",
   "name": "python3"
  },
  "language_info": {
   "codemirror_mode": {
    "name": "ipython",
    "version": 3
   },
   "file_extension": ".py",
   "mimetype": "text/x-python",
   "name": "python",
   "nbconvert_exporter": "python",
   "pygments_lexer": "ipython3",
   "version": "3.10.2"
  }
 },
 "nbformat": 4,
 "nbformat_minor": 5
}
