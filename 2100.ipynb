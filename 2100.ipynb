{
 "cells": [
  {
   "cell_type": "code",
   "execution_count": 7,
   "id": "3de4ab04",
   "metadata": {},
   "outputs": [
    {
     "name": "stdout",
     "output_type": "stream",
     "text": [
      "6\n",
      "Alice+one\n",
      "Bob+one\n",
      "carl\n",
      "Debora+one\n",
      "Enrique+one\n",
      "FRED+one\n",
      "1400\n"
     ]
    }
   ],
   "source": [
    "n = int(input())\n",
    "amount = 2 + n\n",
    "for i in range(n):\n",
    "    people = input()\n",
    "    # Checking the end of the input string\n",
    "    if people.endswith('+one') == True:\n",
    "        amount = amount + 1\n",
    "if amount == 13:\n",
    "    amount = amount + 1\n",
    "money = 100 * amount\n",
    "print(money)"
   ]
  },
  {
   "cell_type": "code",
   "execution_count": null,
   "id": "c80f3bfb",
   "metadata": {},
   "outputs": [],
   "source": []
  }
 ],
 "metadata": {
  "kernelspec": {
   "display_name": "Python 3 (ipykernel)",
   "language": "python",
   "name": "python3"
  },
  "language_info": {
   "codemirror_mode": {
    "name": "ipython",
    "version": 3
   },
   "file_extension": ".py",
   "mimetype": "text/x-python",
   "name": "python",
   "nbconvert_exporter": "python",
   "pygments_lexer": "ipython3",
   "version": "3.10.2"
  }
 },
 "nbformat": 4,
 "nbformat_minor": 5
}
