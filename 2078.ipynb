{
 "cells": [
  {
   "cell_type": "code",
   "execution_count": 1,
   "id": "f8aea3d4",
   "metadata": {},
   "outputs": [
    {
     "name": "stdout",
     "output_type": "stream",
     "text": [
      "2 4 6 8 10 10 8 6 4 2\n",
      "60 86\n"
     ]
    }
   ],
   "source": [
    "s = [int(i) for i in input().split()]\n",
    "# Объявление переменных минимума и максимума\n",
    "minimum = 0\n",
    "maximum = 0\n",
    "# Подсчёт минимальных баллов\n",
    "for i in range(len(s)):\n",
    "    minimum += s[i]\n",
    "    maximum += s[i]\n",
    "    # Проверка выполнимости страйка или спэра для непоследнего фрейма\n",
    "    if (i < 8 and s[i] == 10):\n",
    "        maximum += s[i + 1]\n",
    "        if s[i + 1] == 10:\n",
    "            if s[i + 2] > 10:\n",
    "                maximum += 10\n",
    "            else:\n",
    "                maximum += s[i + 2]\n",
    "    # Проверка выполнимости страйка или спэра для последнего фрейма\n",
    "    if (i == 8 and s[i] == 10):\n",
    "        if s[i + 1] > 20:\n",
    "            maximum += 20\n",
    "            minimum += 10\n",
    "        else:\n",
    "            maximum += s[i + 1]\n",
    "print(minimum, maximum)"
   ]
  },
  {
   "cell_type": "code",
   "execution_count": null,
   "id": "94aa7627",
   "metadata": {},
   "outputs": [],
   "source": []
  }
 ],
 "metadata": {
  "kernelspec": {
   "display_name": "Python 3 (ipykernel)",
   "language": "python",
   "name": "python3"
  },
  "language_info": {
   "codemirror_mode": {
    "name": "ipython",
    "version": 3
   },
   "file_extension": ".py",
   "mimetype": "text/x-python",
   "name": "python",
   "nbconvert_exporter": "python",
   "pygments_lexer": "ipython3",
   "version": "3.10.2"
  }
 },
 "nbformat": 4,
 "nbformat_minor": 5
}
