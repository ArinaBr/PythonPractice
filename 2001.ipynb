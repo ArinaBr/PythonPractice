{
 "cells": [
  {
   "cell_type": "code",
   "execution_count": 2,
   "id": "ac27a80b",
   "metadata": {},
   "outputs": [
    {
     "name": "stdout",
     "output_type": "stream",
     "text": [
      "7 5\n",
      "9 3\n",
      "4 8\n",
      "3 2\n"
     ]
    }
   ],
   "source": [
    "a1, b1 = map(int, input().split())\n",
    "a2, b2 = map(int, input().split())\n",
    "a3, b3 = map(int, input().split())\n",
    "# From the mass of berries we take away the mass of the basket\n",
    "m1 = a1 - a3\n",
    "m2 = b1 - b2\n",
    "print(m1, m2)"
   ]
  },
  {
   "cell_type": "code",
   "execution_count": null,
   "id": "5d2c9d37",
   "metadata": {},
   "outputs": [],
   "source": []
  }
 ],
 "metadata": {
  "kernelspec": {
   "display_name": "Python 3 (ipykernel)",
   "language": "python",
   "name": "python3"
  },
  "language_info": {
   "codemirror_mode": {
    "name": "ipython",
    "version": 3
   },
   "file_extension": ".py",
   "mimetype": "text/x-python",
   "name": "python",
   "nbconvert_exporter": "python",
   "pygments_lexer": "ipython3",
   "version": "3.10.2"
  }
 },
 "nbformat": 4,
 "nbformat_minor": 5
}
