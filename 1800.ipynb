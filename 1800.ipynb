{
 "cells": [
  {
   "cell_type": "code",
   "execution_count": 28,
   "id": "6ff3d16b",
   "metadata": {},
   "outputs": [
    {
     "name": "stdout",
     "output_type": "stream",
     "text": [
      "1 894 100\n",
      "butter\n"
     ]
    }
   ],
   "source": [
    "L, H, W = map(int, input().split())\n",
    "# The case when the length is much greater than the height\n",
    "if (L/2 > H):\n",
    "    print('butter')\n",
    "# The situation when the sandwich turns butter down\n",
    "elif ((W*((2*(H-L/2)/981)**0.5)/60)%1 >= 0 and (W*((2*(H-L/2)/981)**0.5)/60)%1 <= 0.25 or (W*((2*(H-L/2)/981)**0.5)/60)%1 >= 0.75 and (W*((2*(H-L/2)/981)**0.5)/60)%1 <= 1):\n",
    "    print('butter')\n",
    "else:\n",
    "    print('bread')"
   ]
  }
 ],
 "metadata": {
  "kernelspec": {
   "display_name": "Python 3 (ipykernel)",
   "language": "python",
   "name": "python3"
  },
  "language_info": {
   "codemirror_mode": {
    "name": "ipython",
    "version": 3
   },
   "file_extension": ".py",
   "mimetype": "text/x-python",
   "name": "python",
   "nbconvert_exporter": "python",
   "pygments_lexer": "ipython3",
   "version": "3.10.2"
  }
 },
 "nbformat": 4,
 "nbformat_minor": 5
}
