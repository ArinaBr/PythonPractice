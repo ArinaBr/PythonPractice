{
 "cells": [
  {
   "cell_type": "code",
   "execution_count": 2,
   "id": "1c41e68c",
   "metadata": {},
   "outputs": [
    {
     "name": "stdout",
     "output_type": "stream",
     "text": [
      "3\n",
      "2 0\n",
      "3 0\n",
      "0\n",
      "010\n"
     ]
    }
   ],
   "source": [
    "N = int(input())\n",
    "countries = list()\n",
    "for i in range(N):\n",
    "    countries.append(input().split())\n",
    "test = True\n",
    "answer = N * [-1]\n",
    "answer[0] = False\n",
    "while -1 in answer:\n",
    "    control = True\n",
    "    for i in range(N):\n",
    "        if answer[i] != -1:\n",
    "            j = 0\n",
    "            while True:\n",
    "                if int(countries[i][j]) == 0:\n",
    "                    break\n",
    "                if answer[int(countries[i][j]) - 1] != answer[i]:\n",
    "                    control = False\n",
    "                    answer[int(countries[i][j]) - 1] = not answer[i]\n",
    "                else:\n",
    "                    test = False\n",
    "                    break\n",
    "                j = j + 1\n",
    "            for j in range(i):\n",
    "                if str(i + 1) in countries[j]:\n",
    "                    if answer[j] != answer[i]:\n",
    "                        control = False\n",
    "                        answer[j] = not answer[i]\n",
    "                    else:\n",
    "                        test = False\n",
    "                        break\n",
    "        if not test:\n",
    "            break\n",
    "    if not test:\n",
    "        break\n",
    "    if control == True:\n",
    "        for k in range(N):\n",
    "            if answer[k] == -1:\n",
    "                answer[k] = False\n",
    "                break\n",
    "# Checking whether such coloring is possible\n",
    "if test == True:\n",
    "    paint = ''\n",
    "    for m in range(N):\n",
    "        if answer[m] == True:\n",
    "            paint = paint + '1'\n",
    "        else:\n",
    "            paint = paint + '0'\n",
    "    print(paint)\n",
    "else:\n",
    "    print(-1)"
   ]
  },
  {
   "cell_type": "code",
   "execution_count": null,
   "id": "061bf059",
   "metadata": {},
   "outputs": [],
   "source": []
  }
 ],
 "metadata": {
  "kernelspec": {
   "display_name": "Python 3 (ipykernel)",
   "language": "python",
   "name": "python3"
  },
  "language_info": {
   "codemirror_mode": {
    "name": "ipython",
    "version": 3
   },
   "file_extension": ".py",
   "mimetype": "text/x-python",
   "name": "python",
   "nbconvert_exporter": "python",
   "pygments_lexer": "ipython3",
   "version": "3.10.2"
  }
 },
 "nbformat": 4,
 "nbformat_minor": 5
}
