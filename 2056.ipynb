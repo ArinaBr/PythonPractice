{
 "cells": [
  {
   "cell_type": "code",
   "execution_count": 15,
   "id": "9f08fab6",
   "metadata": {},
   "outputs": [
    {
     "name": "stdout",
     "output_type": "stream",
     "text": [
      "3\n",
      "5\n",
      "5\n",
      "5\n",
      "Named\n"
     ]
    }
   ],
   "source": [
    "n = int(input())\n",
    "marks = list()\n",
    "amount = 0\n",
    "for i in range(n):\n",
    "    marks.append(int(input()))\n",
    "for i in range(n):\n",
    "    # Sum of all marks\n",
    "    amount = amount + marks[i]\n",
    "# Average score for exams\n",
    "average_score = amount/n\n",
    "if average_score == 5.0:\n",
    "    scholarship = 'Named'\n",
    "elif average_score >= 4.5:\n",
    "    scholarship = 'High'\n",
    "else:\n",
    "    scholarship = 'Common'\n",
    "for i in range(n):\n",
    "    if marks[i] == 3:\n",
    "        scholarship = 'None'\n",
    "print(scholarship)"
   ]
  },
  {
   "cell_type": "code",
   "execution_count": null,
   "id": "2bd34e3a",
   "metadata": {},
   "outputs": [],
   "source": []
  }
 ],
 "metadata": {
  "kernelspec": {
   "display_name": "Python 3 (ipykernel)",
   "language": "python",
   "name": "python3"
  },
  "language_info": {
   "codemirror_mode": {
    "name": "ipython",
    "version": 3
   },
   "file_extension": ".py",
   "mimetype": "text/x-python",
   "name": "python",
   "nbconvert_exporter": "python",
   "pygments_lexer": "ipython3",
   "version": "3.10.2"
  }
 },
 "nbformat": 4,
 "nbformat_minor": 5
}
