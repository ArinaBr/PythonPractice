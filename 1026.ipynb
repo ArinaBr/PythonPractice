{
 "cells": [
  {
   "cell_type": "code",
   "execution_count": 1,
   "id": "a3c3e014",
   "metadata": {},
   "outputs": [
    {
     "name": "stdout",
     "output_type": "stream",
     "text": [
      "5\n",
      "7\n",
      "121\n",
      "123\n",
      "7\n",
      "121\n",
      "###\n",
      "4\n",
      "3\n",
      "3\n",
      "2\n",
      "5\n",
      "121\n",
      "121\n",
      "7\n",
      "123\n"
     ]
    }
   ],
   "source": [
    "import random\n",
    "def QuickSort(lst):\n",
    "    '''\n",
    "    Sorting numbers in ascending order.\n",
    "    \n",
    "    :param lst: arguments\n",
    "    :type lst: list\n",
    "    \n",
    "    :return lst: sorting arguments\n",
    "    :type lst: list\n",
    "    \n",
    "    '''\n",
    "    if len(lst) > 1:\n",
    "        less = list()\n",
    "        equal = list()\n",
    "        greater = list()\n",
    "        source = random.choice(lst)\n",
    "        for i in lst:\n",
    "            if i < source:\n",
    "                less.append(i)\n",
    "            elif i > source:\n",
    "                greater.append(i)\n",
    "            else:\n",
    "                equal.append(i)\n",
    "        return QuickSort(less) + equal + QuickSort(greater)\n",
    "    else:\n",
    "        return lst\n",
    "\n",
    "\n",
    "n = int(input())\n",
    "numbers = list()\n",
    "for i in range(n):\n",
    "    numbers.append(int(input()))\n",
    "grids = input()\n",
    "k = int(input())\n",
    "s = list()\n",
    "for i in range(k):\n",
    "    s.append(int(input()))\n",
    "numbers = QuickSort(numbers)\n",
    "# Searching for an element by its index\n",
    "for i in s:\n",
    "    print(numbers[i - 1])"
   ]
  },
  {
   "cell_type": "code",
   "execution_count": null,
   "id": "a0837a41",
   "metadata": {},
   "outputs": [],
   "source": []
  }
 ],
 "metadata": {
  "kernelspec": {
   "display_name": "Python 3 (ipykernel)",
   "language": "python",
   "name": "python3"
  },
  "language_info": {
   "codemirror_mode": {
    "name": "ipython",
    "version": 3
   },
   "file_extension": ".py",
   "mimetype": "text/x-python",
   "name": "python",
   "nbconvert_exporter": "python",
   "pygments_lexer": "ipython3",
   "version": "3.10.2"
  }
 },
 "nbformat": 4,
 "nbformat_minor": 5
}
