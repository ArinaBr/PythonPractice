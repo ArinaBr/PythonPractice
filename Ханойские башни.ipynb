{
 "cells": [
  {
   "cell_type": "code",
   "execution_count": 2,
   "id": "6c1aba39",
   "metadata": {},
   "outputs": [
    {
     "name": "stdout",
     "output_type": "stream",
     "text": [
      "Enter the number of disks: 5\n",
      "The sequence of 31 operations for moving disks:\n",
      "Move disk 1 from 1 to 3\n",
      "Move disk 2 from 1 to 2\n",
      "Move disk 1 from 3 to 2\n",
      "Move disk 3 from 1 to 3\n",
      "Move disk 1 from 2 to 1\n",
      "Move disk 2 from 2 to 3\n",
      "Move disk 1 from 1 to 3\n",
      "Move disk 4 from 1 to 2\n",
      "Move disk 1 from 3 to 2\n",
      "Move disk 2 from 3 to 1\n",
      "Move disk 1 from 2 to 1\n",
      "Move disk 3 from 3 to 2\n",
      "Move disk 1 from 1 to 3\n",
      "Move disk 2 from 1 to 2\n",
      "Move disk 1 from 3 to 2\n",
      "Move disk 5 from 1 to 3\n",
      "Move disk 1 from 2 to 1\n",
      "Move disk 2 from 2 to 3\n",
      "Move disk 1 from 1 to 3\n",
      "Move disk 3 from 2 to 1\n",
      "Move disk 1 from 3 to 2\n",
      "Move disk 2 from 3 to 1\n",
      "Move disk 1 from 2 to 1\n",
      "Move disk 4 from 2 to 3\n",
      "Move disk 1 from 1 to 3\n",
      "Move disk 2 from 1 to 2\n",
      "Move disk 1 from 3 to 2\n",
      "Move disk 3 from 1 to 3\n",
      "Move disk 1 from 2 to 1\n",
      "Move disk 2 from 2 to 3\n",
      "Move disk 1 from 1 to 3\n"
     ]
    }
   ],
   "source": [
    "def hanoi_tower(n, rod1, rod2, rod3):\n",
    "    '''\n",
    "    Solving the problem of moving disks.\n",
    "    \n",
    "    :params n, rod1, rod2, rod3: arguments\n",
    "    :types n, rod1, rod2, rod3: int\n",
    "    \n",
    "    '''\n",
    "    if n == 1:\n",
    "        print('Move disk 1 from', rod1, 'to', rod3)\n",
    "    else:\n",
    "        # Рекурсивный вызов функции для перемещения башни с 1 стержня на 2, наибольшего диска на 3 стержень\n",
    "        hanoi_tower(n - 1, rod1, rod3, rod2)\n",
    "        print('Move disk', n, 'from', rod1, 'to', rod3)\n",
    "        # Рекурсивный вызов функции для перемещения башни со 2 стержня на 3\n",
    "        hanoi_tower(n - 1, rod2, rod1, rod3)\n",
    "        \n",
    "n = int(input('Enter the number of disks: '))\n",
    "print('The sequence of', 2**n - 1, 'operations for moving disks:')\n",
    "hanoi_tower(n, 1, 2, 3)"
   ]
  },
  {
   "cell_type": "code",
   "execution_count": null,
   "id": "6b08c81c",
   "metadata": {},
   "outputs": [],
   "source": []
  }
 ],
 "metadata": {
  "kernelspec": {
   "display_name": "Python 3 (ipykernel)",
   "language": "python",
   "name": "python3"
  },
  "language_info": {
   "codemirror_mode": {
    "name": "ipython",
    "version": 3
   },
   "file_extension": ".py",
   "mimetype": "text/x-python",
   "name": "python",
   "nbconvert_exporter": "python",
   "pygments_lexer": "ipython3",
   "version": "3.10.2"
  }
 },
 "nbformat": 4,
 "nbformat_minor": 5
}
