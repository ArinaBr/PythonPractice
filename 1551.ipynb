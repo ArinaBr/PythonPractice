{
 "cells": [
  {
   "cell_type": "code",
   "execution_count": 15,
   "id": "590f7472",
   "metadata": {},
   "outputs": [
    {
     "name": "stdout",
     "output_type": "stream",
     "text": [
      "3\n",
      "Homasho Ishikawa\n",
      "Tamakasuga Tokyo\n",
      "Futeno Tochigi\n",
      "Takekaze Tokyo\n",
      "Kasugao Yamaguchi\n",
      "Kotoshogiku Ishikawa\n",
      "Kotomitsuki Tokyo\n",
      "Miyabiyama Shizuoka\n",
      "1\n"
     ]
    }
   ],
   "source": [
    "def SelectionSort(lst):\n",
    "    '''\n",
    "    Sorting numbers in descending order.\n",
    "    \n",
    "    :param lst: arguments\n",
    "    :type lst: list\n",
    "    \n",
    "    :return lst: sorting arguments\n",
    "    :type lst: list\n",
    "    \n",
    "    '''\n",
    "    for i in range(len(lst)):\n",
    "        pos = i\n",
    "        for j in range(i + 1, len(lst)):\n",
    "            if lst[pos] < lst[j]:\n",
    "                pos = j\n",
    "        if pos != i:\n",
    "            lst[pos], lst[i] = lst[i], lst[pos]\n",
    "    return(lst)\n",
    "\n",
    "\n",
    "n = int(input())\n",
    "num = 2**n\n",
    "mass = ['']*num\n",
    "for i in range(num):\n",
    "    mass[i] = (input().split())[1]\n",
    "arr = list()\n",
    "# Finding the number of repetitions of the same prefecture\n",
    "for i in range(num):\n",
    "    r = 0\n",
    "    for j in range(num):\n",
    "        if mass[i] == mass[j]:\n",
    "            if j < i:\n",
    "                r = 0\n",
    "                break\n",
    "            else:\n",
    "                r = r + 1\n",
    "    if r != 0:\n",
    "        arr.append(r)\n",
    "arr = SelectionSort(arr)\n",
    "summ = 0\n",
    "# Search for the maximum number of rounds\n",
    "num = num/2\n",
    "while True:\n",
    "    if num >= arr[0]:\n",
    "        summ = summ + 1\n",
    "        num = num/2\n",
    "    else:\n",
    "        break\n",
    "print(summ)"
   ]
  },
  {
   "cell_type": "code",
   "execution_count": null,
   "id": "e9d07f2d",
   "metadata": {},
   "outputs": [],
   "source": []
  }
 ],
 "metadata": {
  "kernelspec": {
   "display_name": "Python 3 (ipykernel)",
   "language": "python",
   "name": "python3"
  },
  "language_info": {
   "codemirror_mode": {
    "name": "ipython",
    "version": 3
   },
   "file_extension": ".py",
   "mimetype": "text/x-python",
   "name": "python",
   "nbconvert_exporter": "python",
   "pygments_lexer": "ipython3",
   "version": "3.10.2"
  }
 },
 "nbformat": 4,
 "nbformat_minor": 5
}
